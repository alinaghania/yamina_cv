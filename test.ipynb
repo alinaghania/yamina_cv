{
 "cells": [
  {
   "cell_type": "code",
   "execution_count": 1,
   "metadata": {},
   "outputs": [
    {
     "name": "stdout",
     "output_type": "stream",
     "text": [
      "Coût annuel estimé : 386,000.00 $\n"
     ]
    }
   ],
   "source": [
    "def estimer_cout_textract(pages_par_an):\n",
    "    # Tarifs en dollars\n",
    "    tarif_premier_million = 0.065\n",
    "    tarif_suivant = 0.050\n",
    "\n",
    "    # Calcul du coût\n",
    "    if pages_par_an <= 1_000_000:\n",
    "        cout_total = pages_par_an * tarif_premier_million\n",
    "    else:\n",
    "        cout_premier_million = 1_000_000 * tarif_premier_million\n",
    "        cout_restant = (pages_par_an - 1_000_000) * tarif_suivant\n",
    "        cout_total = cout_premier_million + cout_restant\n",
    "\n",
    "    return cout_total\n",
    "\n",
    "# Exemple d'utilisation\n",
    "pages_par_an = 7420000  # 212 000 documents × 35 pages\n",
    "cout_annuel = estimer_cout_textract(pages_par_an)\n",
    "print(f\"Coût annuel estimé : {cout_annuel:,.2f} $\")\n"
   ]
  },
  {
   "cell_type": "code",
   "execution_count": null,
   "metadata": {},
   "outputs": [],
   "source": []
  }
 ],
 "metadata": {
  "kernelspec": {
   "display_name": "venv",
   "language": "python",
   "name": "python3"
  },
  "language_info": {
   "codemirror_mode": {
    "name": "ipython",
    "version": 3
   },
   "file_extension": ".py",
   "mimetype": "text/x-python",
   "name": "python",
   "nbconvert_exporter": "python",
   "pygments_lexer": "ipython3",
   "version": "3.13.2"
  }
 },
 "nbformat": 4,
 "nbformat_minor": 2
}
